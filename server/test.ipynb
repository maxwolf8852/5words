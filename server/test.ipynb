{
 "cells": [
  {
   "cell_type": "code",
   "execution_count": 2,
   "metadata": {},
   "outputs": [],
   "source": [
    "import pandas as pd\n",
    "\n",
    "df = pd.read_csv('data/nouns.csv', sep='\\t')"
   ]
  },
  {
   "cell_type": "code",
   "execution_count": 9,
   "metadata": {},
   "outputs": [],
   "source": [
    "df[\"bare\"]\n",
    "rows = [ x[1] + \"\\n\" for x in df[\"bare\"].items()]\n",
    "rows\n",
    "with open(\"data/nouns.txt\", \"w\") as fp:\n",
    "    fp.writelines(rows)"
   ]
  },
  {
   "cell_type": "code",
   "execution_count": 18,
   "metadata": {},
   "outputs": [
    {
     "name": "stdout",
     "output_type": "stream",
     "text": [
      "26982\n",
      "26859\n"
     ]
    }
   ],
   "source": [
    "with open(\"data/nouns.txt\", \"r\") as fp:\n",
    "    rows1 = fp.read().splitlines()\n",
    "\n",
    "with open(\"data/russian_nouns.txt\", \"r\") as fp:\n",
    "    rows2 = fp.read().splitlines()\n",
    "\n",
    "print(len(rows1))\n",
    "rows1 = set(rows1)\n",
    "print(len(rows1))\n",
    "rows1 = rows1.union(rows2)\n",
    "len(rows1)\n",
    "with open(\"data/all_nouns.txt\", \"w\") as fp:\n",
    "    fp.writelines([x + '\\n' for x in rows1])"
   ]
  }
 ],
 "metadata": {
  "kernelspec": {
   "display_name": "Python 3",
   "language": "python",
   "name": "python3"
  },
  "language_info": {
   "codemirror_mode": {
    "name": "ipython",
    "version": 3
   },
   "file_extension": ".py",
   "mimetype": "text/x-python",
   "name": "python",
   "nbconvert_exporter": "python",
   "pygments_lexer": "ipython3",
   "version": "3.12.0"
  }
 },
 "nbformat": 4,
 "nbformat_minor": 2
}
